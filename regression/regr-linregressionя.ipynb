{
 "cells": [
  {
   "cell_type": "markdown",
   "id": "bcfd1073-946f-4c20-92ca-709448a1f4b2",
   "metadata": {},
   "source": [
    "# Регрессия: ближайшие соседи"
   ]
  },
  {
   "cell_type": "code",
   "execution_count": null,
   "id": "a4b423fd-34cc-4302-a3b4-3534db20514e",
   "metadata": {},
   "outputs": [],
   "source": [
    "import numpy as np\n",
    "import pandas as pd\n",
    "\n",
    "from sklearn.linear_model import LinearRegression\n",
    "from sklearn.model_selection import train_test_split\n",
    "# базовые метрики подгонки\n",
    "from sklearn.metrics import r2_score, mean_squared_error, mean_absolute_error, mean_absolute_percentage_error, mean_squared_log_error\n",
    " \n",
    "\n",
    "# Не показывать FutureWarnings\n",
    "import warnings\n",
    "warnings.simplefilter(action='ignore', category=FutureWarning)"
   ]
  },
  {
   "cell_type": "markdown",
   "id": "ce5f22de-f107-45a3-b1a2-0ed26be57eb4",
   "metadata": {},
   "source": [
    "## Данные"
   ]
  },
  {
   "cell_type": "code",
   "execution_count": null,
   "id": "3b6ac49c-4b49-4ca7-a0c4-180073205922",
   "metadata": {},
   "outputs": [],
   "source": [
    "# загрузим данные\n",
    "data = pd.read_csv('../datasets/sleep75.csv')\n",
    "data.shape"
   ]
  },
  {
   "cell_type": "code",
   "execution_count": null,
   "id": "1cca112d-1a06-48c8-beaf-affc2a0367f5",
   "metadata": {},
   "outputs": [],
   "source": [
    "# Удалим пропущенные значения (столбцы)\n",
    "data = data.dropna(axis=1)\n",
    "data.shape"
   ]
  },
  {
   "cell_type": "code",
   "execution_count": null,
   "id": "6c6a2fc6-cf8b-48ee-983c-5d51b5c21c26",
   "metadata": {},
   "outputs": [],
   "source": [
    "y = data['sleep']\n",
    "X = data.drop(columns='sleep')\n",
    "# Разобьём выборку на обучающую и тестовую 80:20\n",
    "X_train,X_test,y_train,y_test = train_test_split(X,y,test_size=0.2,random_state=0)"
   ]
  },
  {
   "cell_type": "markdown",
   "id": "45f420e1-17cf-40d4-a0da-8430ed87d25c",
   "metadata": {},
   "source": [
    "## Линейная регрессия\n",
    "обучаем модель на обучающей выборке"
   ]
  },
  {
   "cell_type": "code",
   "execution_count": null,
   "id": "8744db9b-d5e4-4faa-9c56-6aa358fc7a71",
   "metadata": {},
   "outputs": [],
   "source": [
    "regr = LinearRegression()\n",
    "regr.fit(X_train, y_train)"
   ]
  },
  {
   "cell_type": "markdown",
   "id": "db2cf637-11d7-4e9b-955f-383e2252f642",
   "metadata": {},
   "source": [
    "## Метрики подгонки"
   ]
  },
  {
   "cell_type": "code",
   "execution_count": null,
   "id": "3744ae2b-7671-4a5b-9f67-407c90e1e922",
   "metadata": {},
   "outputs": [],
   "source": [
    "# R^2 на тестовой выборке\n",
    "regr.score(X_test, y_test)"
   ]
  },
  {
   "cell_type": "markdown",
   "id": "0a8f8a2a-bb59-41dd-8e1c-ae4d4483c677",
   "metadata": {},
   "source": [
    "Базовые метрики"
   ]
  },
  {
   "cell_type": "code",
   "execution_count": null,
   "id": "c7dd03eb",
   "metadata": {},
   "outputs": [],
   "source": [
    "y_pred = regr.predict(X_test)"
   ]
  },
  {
   "cell_type": "code",
   "execution_count": null,
   "id": "cde6b575",
   "metadata": {},
   "outputs": [],
   "source": [
    "# MSE/ RMSE\n",
    "mean_squared_error(y_test, y_pred, squared=True), mean_squared_error(y_test, y_pred, squared=False)"
   ]
  },
  {
   "cell_type": "code",
   "execution_count": null,
   "id": "cb93efde",
   "metadata": {},
   "outputs": [],
   "source": [
    "# MAE\n",
    "mean_absolute_error(y_test, y_pred)"
   ]
  },
  {
   "cell_type": "code",
   "execution_count": null,
   "id": "66d5e939",
   "metadata": {},
   "outputs": [],
   "source": [
    "# MAPE\n",
    "mean_absolute_percentage_error(y_test, y_pred)"
   ]
  },
  {
   "cell_type": "code",
   "execution_count": null,
   "id": "25e7c186",
   "metadata": {},
   "outputs": [],
   "source": [
    "# R2\n",
    "r2_score(y_test, y_pred)"
   ]
  },
  {
   "cell_type": "code",
   "execution_count": null,
   "id": "f6555be7",
   "metadata": {},
   "outputs": [],
   "source": [
    "# Mean squared logarithmic error regression loss.\n",
    "mean_squared_log_error(y_test, y_pred)"
   ]
  }
 ],
 "metadata": {
  "kernelspec": {
   "display_name": "Python 3 (ipykernel)",
   "language": "python",
   "name": "python3"
  },
  "language_info": {
   "codemirror_mode": {
    "name": "ipython",
    "version": 3
   },
   "file_extension": ".py",
   "mimetype": "text/x-python",
   "name": "python",
   "nbconvert_exporter": "python",
   "pygments_lexer": "ipython3",
   "version": "3.11.5"
  }
 },
 "nbformat": 4,
 "nbformat_minor": 5
}
